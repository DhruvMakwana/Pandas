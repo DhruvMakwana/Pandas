{
 "cells": [
  {
   "cell_type": "code",
   "execution_count": 49,
   "metadata": {},
   "outputs": [],
   "source": [
    "#importing pandas\n",
    "import pandas as pd"
   ]
  },
  {
   "cell_type": "markdown",
   "metadata": {},
   "source": [
    "*Pandas allows us to load a spreadsheet and manipulate it programmatically in python. The central concept in pandas is the type of object called a DataFrame – basically a table of values which has a label for each row and column. Let’s load this basic CSV file containing data from a NewYork city weather:*"
   ]
  },
  {
   "cell_type": "code",
   "execution_count": 50,
   "metadata": {},
   "outputs": [
    {
     "name": "stdout",
     "output_type": "stream",
     "text": [
      "          EST  Temperature  DewPoint  Humidity  Sea Level PressureIn  \\\n",
      "0    1/1/2016           38        23        52                 30.03   \n",
      "1    1/2/2016           36        18        46                 30.02   \n",
      "2    1/3/2016           40        21        47                 29.86   \n",
      "3    1/4/2016           25         9        44                 30.05   \n",
      "4    1/5/2016           20        -3        41                 30.57   \n",
      "5    1/6/2016           33         4        35                 30.50   \n",
      "6    1/7/2016           39        11        33                 30.28   \n",
      "7    1/8/2016           39        29        64                 30.20   \n",
      "8    1/9/2016           44        38        77                 30.16   \n",
      "9   1/10/2016           50        46        71                 29.59   \n",
      "10  1/11/2016           33         8        37                 29.92   \n",
      "11  1/12/2016           35        15        53                 29.85   \n",
      "12  1/13/2016           26         4        42                 29.94   \n",
      "13  1/14/2016           30        12        47                 29.95   \n",
      "14  1/15/2016           43        31        62                 29.82   \n",
      "15  1/16/2016           47        37        70                 29.52   \n",
      "16  1/17/2016           36        23        66                 29.78   \n",
      "17  1/18/2016           25         6        53                 29.83   \n",
      "18  1/19/2016           22         3        42                 30.03   \n",
      "19  1/20/2016           32        15        49                 30.13   \n",
      "20  1/21/2016           31        11        45                 30.15   \n",
      "21  1/22/2016           26         6        41                 30.21   \n",
      "22  1/23/2016           26        21        78                 29.77   \n",
      "23  1/24/2016           28        11        53                 29.92   \n",
      "24  1/25/2016           34        18        54                 30.25   \n",
      "25  1/26/2016           43        29        56                 30.03   \n",
      "26  1/27/2016           41        22        45                 30.03   \n",
      "27  1/28/2016           37        20        51                 29.90   \n",
      "28  1/29/2016           36        21        50                 29.58   \n",
      "29  1/30/2016           34        16        46                 30.01   \n",
      "30  1/31/2016           46        28        52                 29.90   \n",
      "\n",
      "    VisibilityMiles  WindSpeedMPH PrecipitationIn  CloudCover    Events  \\\n",
      "0                10           8.0               0           5       NaN   \n",
      "1                10           7.0               0           3       NaN   \n",
      "2                10           8.0               0           1       NaN   \n",
      "3                10           9.0               0           3       NaN   \n",
      "4                10           5.0               0           0       NaN   \n",
      "5                10           4.0               0           0       NaN   \n",
      "6                10           2.0               0           3       NaN   \n",
      "7                10           4.0               0           8       NaN   \n",
      "8                 9           8.0               T           8      Rain   \n",
      "9                 4           NaN             1.8           7      Rain   \n",
      "10               10           NaN               0           1       NaN   \n",
      "11               10           6.0               T           4       NaN   \n",
      "12               10          10.0               0           0       NaN   \n",
      "13               10           5.0               T           7       NaN   \n",
      "14                9           5.0               T           2       NaN   \n",
      "15                8           7.0            0.24           7      Rain   \n",
      "16                8           6.0            0.05           6  Fog-Snow   \n",
      "17                9          12.0               T           2      Snow   \n",
      "18               10          11.0               0           1       NaN   \n",
      "19               10           6.0               0           2       NaN   \n",
      "20               10           6.0               0           1       NaN   \n",
      "21                9           NaN            0.01           3      Snow   \n",
      "22                1          16.0            2.31           8  Fog-Snow   \n",
      "23                8           6.0               T           3      Snow   \n",
      "24               10           3.0               0           2       NaN   \n",
      "25               10           7.0               0           2       NaN   \n",
      "26               10           7.0               T           3      Rain   \n",
      "27               10           5.0               0           1       NaN   \n",
      "28               10           8.0               0           4       NaN   \n",
      "29               10           7.0               0           0       NaN   \n",
      "30               10           5.0               0           0       NaN   \n",
      "\n",
      "    WindDirDegrees  \n",
      "0              281  \n",
      "1              275  \n",
      "2              277  \n",
      "3              345  \n",
      "4              333  \n",
      "5              259  \n",
      "6              293  \n",
      "7               79  \n",
      "8               76  \n",
      "9              109  \n",
      "10             289  \n",
      "11             235  \n",
      "12             284  \n",
      "13             266  \n",
      "14             101  \n",
      "15             340  \n",
      "16             345  \n",
      "17             293  \n",
      "18             293  \n",
      "19             302  \n",
      "20             312  \n",
      "21              34  \n",
      "22              42  \n",
      "23             327  \n",
      "24             286  \n",
      "25             244  \n",
      "26             311  \n",
      "27             234  \n",
      "28             298  \n",
      "29             257  \n",
      "30             241  \n"
     ]
    }
   ],
   "source": [
    "#Here read_csv is the method for reading csv file into dataframe.\n",
    "#csv file is comma-separated values\n",
    "dataframe = pd.read_csv(\"nyc_weather.csv\")\n",
    "print(dataframe)"
   ]
  },
  {
   "cell_type": "code",
   "execution_count": 51,
   "metadata": {},
   "outputs": [
    {
     "name": "stdout",
     "output_type": "stream",
     "text": [
      "50\n"
     ]
    }
   ],
   "source": [
    "#get maximum temperature \n",
    "print(dataframe[\"Temperature\"].max())"
   ]
  },
  {
   "cell_type": "code",
   "execution_count": 52,
   "metadata": {},
   "outputs": [
    {
     "name": "stdout",
     "output_type": "stream",
     "text": [
      "8      1/9/2016\n",
      "9     1/10/2016\n",
      "15    1/16/2016\n",
      "26    1/27/2016\n",
      "Name: EST, dtype: object\n"
     ]
    }
   ],
   "source": [
    "#If you want to know which days it rains\n",
    "print(dataframe['EST'][dataframe['Events']=='Rain'])"
   ]
  },
  {
   "cell_type": "code",
   "execution_count": 53,
   "metadata": {},
   "outputs": [
    {
     "name": "stdout",
     "output_type": "stream",
     "text": [
      "6.892857142857143\n"
     ]
    }
   ],
   "source": [
    "#printing Average wind speed\n",
    "print(dataframe['WindSpeedMPH'].mean())"
   ]
  },
  {
   "cell_type": "markdown",
   "metadata": {},
   "source": [
    "*DataFrame is main object in pandas, it is used to represent data with rows and columns.*\n",
    "*DataFrame is data structure represent the data in tabular or excel spreadsheet like data*"
   ]
  },
  {
   "cell_type": "code",
   "execution_count": 54,
   "metadata": {},
   "outputs": [
    {
     "name": "stdout",
     "output_type": "stream",
     "text": [
      "        day  temperature  windspeed  event\n",
      "0  1/1/2017           32          6   Rain\n",
      "1  1/2/2017           35          7  Sunny\n",
      "2  1/3/2017           28          2   Snow\n",
      "3  1/4/2017           24          7   Snow\n",
      "4  1/5/2017           32          4   Rain\n",
      "5  1/6/2017           31          2  Sunny\n"
     ]
    }
   ],
   "source": [
    "#creating dataframe from csv file\n",
    "dataframe = pd.read_csv(\"Weather_data.csv\") \n",
    "print(dataframe)"
   ]
  },
  {
   "cell_type": "code",
   "execution_count": 55,
   "metadata": {},
   "outputs": [
    {
     "name": "stdout",
     "output_type": "stream",
     "text": [
      "        day  temperature  windspeed  event\n",
      "0  1/1/2017           32          6   Rain\n",
      "1  1/2/2017           35          7  Sunny\n",
      "2  1/3/2017           28          2   Snow\n",
      "3  1/4/2017           24          7   Snow\n",
      "4  1/5/2017           32          4   Rain\n",
      "5  1/6/2017           31          2  Sunny\n"
     ]
    }
   ],
   "source": [
    "#creating dataframe from tuples\n",
    "\n",
    "weather_data = [('1/1/2017',32,6,'Rain'),('1/2/2017',35,7,'Sunny'),('1/3/2017',28,2,'Snow'),('1/4/2017',24,7,'Snow'),('1/5/2017',32,4,'Rain'),('1/6/2017',31,2,'Sunny')]\n",
    "dataframe1 = pd.DataFrame(weather_data,columns=['day','temperature','windspeed','event'])\n",
    "print(dataframe1)"
   ]
  },
  {
   "cell_type": "code",
   "execution_count": 56,
   "metadata": {},
   "outputs": [
    {
     "name": "stdout",
     "output_type": "stream",
     "text": [
      "(6, 4)\n"
     ]
    }
   ],
   "source": [
    "# get dimentions of table\n",
    "print(dataframe.shape)"
   ]
  },
  {
   "cell_type": "code",
   "execution_count": 57,
   "metadata": {},
   "outputs": [
    {
     "name": "stdout",
     "output_type": "stream",
     "text": [
      "        day  temperature  windspeed  event\n",
      "0  1/1/2017           32          6   Rain\n",
      "1  1/2/2017           35          7  Sunny\n",
      "2  1/3/2017           28          2   Snow\n",
      "3  1/4/2017           24          7   Snow\n",
      "4  1/5/2017           32          4   Rain\n",
      "        day  temperature  windspeed  event\n",
      "0  1/1/2017           32          6   Rain\n",
      "1  1/2/2017           35          7  Sunny\n"
     ]
    }
   ],
   "source": [
    "#printing initial rows\n",
    "print(dataframe.head())\n",
    "print(dataframe.head(2))"
   ]
  },
  {
   "cell_type": "code",
   "execution_count": 58,
   "metadata": {},
   "outputs": [
    {
     "name": "stdout",
     "output_type": "stream",
     "text": [
      "        day  temperature  windspeed  event\n",
      "1  1/2/2017           35          7  Sunny\n",
      "2  1/3/2017           28          2   Snow\n",
      "3  1/4/2017           24          7   Snow\n",
      "4  1/5/2017           32          4   Rain\n",
      "5  1/6/2017           31          2  Sunny\n",
      "        day  temperature  windspeed  event\n",
      "4  1/5/2017           32          4   Rain\n",
      "5  1/6/2017           31          2  Sunny\n"
     ]
    }
   ],
   "source": [
    "#printing last rows\n",
    "print(dataframe.tail())\n",
    "print(dataframe.tail(2))"
   ]
  },
  {
   "cell_type": "code",
   "execution_count": 59,
   "metadata": {},
   "outputs": [
    {
     "name": "stdout",
     "output_type": "stream",
     "text": [
      "        day  temperature  windspeed event\n",
      "2  1/3/2017           28          2  Snow\n",
      "3  1/4/2017           24          7  Snow\n",
      "4  1/5/2017           32          4  Rain\n"
     ]
    }
   ],
   "source": [
    "#printing data from 2 to 5 using slicing\n",
    "print(dataframe[2:5])"
   ]
  },
  {
   "cell_type": "code",
   "execution_count": 60,
   "metadata": {},
   "outputs": [
    {
     "name": "stdout",
     "output_type": "stream",
     "text": [
      "Index(['day', 'temperature', 'windspeed', 'event'], dtype='object')\n"
     ]
    }
   ],
   "source": [
    "#printing columns of dataframe\n",
    "print(dataframe.columns)"
   ]
  },
  {
   "cell_type": "code",
   "execution_count": 61,
   "metadata": {},
   "outputs": [
    {
     "name": "stdout",
     "output_type": "stream",
     "text": [
      "0    1/1/2017\n",
      "1    1/2/2017\n",
      "2    1/3/2017\n",
      "3    1/4/2017\n",
      "4    1/5/2017\n",
      "5    1/6/2017\n",
      "Name: day, dtype: object\n",
      "0    32\n",
      "1    35\n",
      "2    28\n",
      "3    24\n",
      "4    32\n",
      "5    31\n",
      "Name: temperature, dtype: int64\n",
      "0    1/1/2017\n",
      "1    1/2/2017\n",
      "2    1/3/2017\n",
      "3    1/4/2017\n",
      "4    1/5/2017\n",
      "5    1/6/2017\n",
      "Name: day, dtype: object\n"
     ]
    }
   ],
   "source": [
    "#printing particular column data\n",
    "print(dataframe.day)\n",
    "print(dataframe.temperature)\n",
    "#another way of accessing column\n",
    "print(dataframe['day'])"
   ]
  },
  {
   "cell_type": "code",
   "execution_count": 62,
   "metadata": {},
   "outputs": [
    {
     "name": "stdout",
     "output_type": "stream",
     "text": [
      "        day  temperature\n",
      "0  1/1/2017           32\n",
      "1  1/2/2017           35\n",
      "2  1/3/2017           28\n",
      "3  1/4/2017           24\n",
      "4  1/5/2017           32\n",
      "5  1/6/2017           31\n",
      "        day  temperature  event\n",
      "0  1/1/2017           32   Rain\n",
      "1  1/2/2017           35  Sunny\n",
      "2  1/3/2017           28   Snow\n",
      "3  1/4/2017           24   Snow\n",
      "4  1/5/2017           32   Rain\n",
      "5  1/6/2017           31  Sunny\n"
     ]
    }
   ],
   "source": [
    "#for getting two or more columns together\n",
    "print(dataframe[['day','temperature']])\n",
    "print(dataframe[['day','temperature','event']])"
   ]
  },
  {
   "cell_type": "code",
   "execution_count": 63,
   "metadata": {},
   "outputs": [
    {
     "name": "stdout",
     "output_type": "stream",
     "text": [
      "35\n",
      "24\n"
     ]
    }
   ],
   "source": [
    "#printing maximum and minimum of temperature\n",
    "print(dataframe['temperature'].max())\n",
    "print(dataframe['temperature'].min())"
   ]
  },
  {
   "cell_type": "code",
   "execution_count": 64,
   "metadata": {},
   "outputs": [
    {
     "name": "stdout",
     "output_type": "stream",
     "text": [
      "count     6.000000\n",
      "mean     30.333333\n",
      "std       3.829708\n",
      "min      24.000000\n",
      "25%      28.750000\n",
      "50%      31.500000\n",
      "75%      32.000000\n",
      "max      35.000000\n",
      "Name: temperature, dtype: float64\n"
     ]
    }
   ],
   "source": [
    "#printing statistical data of pandas\n",
    "print(dataframe['temperature'].describe())"
   ]
  },
  {
   "cell_type": "code",
   "execution_count": 65,
   "metadata": {},
   "outputs": [
    {
     "name": "stdout",
     "output_type": "stream",
     "text": [
      "        day  temperature  windspeed  event\n",
      "1  1/2/2017           35          7  Sunny\n"
     ]
    }
   ],
   "source": [
    "#printing rows which has maximum temperature\n",
    "print(dataframe[dataframe.temperature == dataframe.temperature.max()])"
   ]
  },
  {
   "cell_type": "code",
   "execution_count": 66,
   "metadata": {},
   "outputs": [
    {
     "name": "stdout",
     "output_type": "stream",
     "text": [
      "1    1/2/2017\n",
      "Name: day, dtype: object\n"
     ]
    }
   ],
   "source": [
    "#printing only day column which has maximum temperature\n",
    "print(dataframe.day[dataframe.temperature == dataframe.temperature.max()])"
   ]
  },
  {
   "cell_type": "markdown",
   "metadata": {},
   "source": [
    "# Read and Write CSV and XLS files"
   ]
  },
  {
   "cell_type": "code",
   "execution_count": 67,
   "metadata": {},
   "outputs": [
    {
     "name": "stdout",
     "output_type": "stream",
     "text": [
      "        day  temperature  windspeed  event\n",
      "0  1/1/2017           32          6   Rain\n",
      "1  1/2/2017           35          7  Sunny\n",
      "2  1/3/2017           28          2   Snow\n",
      "3  1/4/2017           24          7   Snow\n",
      "4  1/5/2017           32          4   Rain\n",
      "5  1/6/2017           31          2  Sunny\n"
     ]
    }
   ],
   "source": [
    "#read excel file \n",
    "dataframe = pd.read_excel('weather_data.xlsx')\n",
    "print(dataframe)"
   ]
  },
  {
   "cell_type": "code",
   "execution_count": 68,
   "metadata": {},
   "outputs": [],
   "source": [
    "#write DataFrame to csv file\n",
    "dataframe.to_csv('new.csv')"
   ]
  },
  {
   "cell_type": "code",
   "execution_count": 69,
   "metadata": {},
   "outputs": [],
   "source": [
    "#writing DataFrame to excel file\n",
    "dataframe.to_excel('new.xlsx')"
   ]
  },
  {
   "cell_type": "code",
   "execution_count": 70,
   "metadata": {},
   "outputs": [
    {
     "name": "stdout",
     "output_type": "stream",
     "text": [
      "         day      city  temperature  windspeed   event\n",
      "0   1/1/2017  new york           32          6    Rain\n",
      "1   1/2/2017  new york           36          7   Sunny\n",
      "2   1/3/2017  new york           28         12    Snow\n",
      "3   1/4/2017  new york           33          7   Sunny\n",
      "4   1/1/2017    mumbai           90          5   Sunny\n",
      "5   1/2/2017    mumbai           85         12     Fog\n",
      "6   1/3/2017    mumbai           87         15     Fog\n",
      "7   1/4/2017    mumbai           92          5    Rain\n",
      "8   1/1/2017     paris           45         20   Sunny\n",
      "9   1/2/2017     paris           50         13  Cloudy\n",
      "10  1/3/2017     paris           54          8  Cloudy\n",
      "11  1/4/2017     paris           42         10  Cloudy\n"
     ]
    }
   ],
   "source": [
    "#group by using pandas\n",
    "\n",
    "dataframe = pd.read_csv('weather_data_cities.csv')\n",
    "print(dataframe)"
   ]
  },
  {
   "cell_type": "code",
   "execution_count": 71,
   "metadata": {},
   "outputs": [
    {
     "name": "stdout",
     "output_type": "stream",
     "text": [
      "<pandas.core.groupby.groupby.DataFrameGroupBy object at 0x000001CEAB0336A0>\n"
     ]
    }
   ],
   "source": [
    "x = dataframe.groupby('city')\n",
    "print(x)"
   ]
  },
  {
   "cell_type": "code",
   "execution_count": 72,
   "metadata": {},
   "outputs": [
    {
     "name": "stdout",
     "output_type": "stream",
     "text": [
      "mumbai\n",
      "        day    city  temperature  windspeed  event\n",
      "4  1/1/2017  mumbai           90          5  Sunny\n",
      "5  1/2/2017  mumbai           85         12    Fog\n",
      "6  1/3/2017  mumbai           87         15    Fog\n",
      "7  1/4/2017  mumbai           92          5   Rain\n",
      "new york\n",
      "        day      city  temperature  windspeed  event\n",
      "0  1/1/2017  new york           32          6   Rain\n",
      "1  1/2/2017  new york           36          7  Sunny\n",
      "2  1/3/2017  new york           28         12   Snow\n",
      "3  1/4/2017  new york           33          7  Sunny\n",
      "paris\n",
      "         day   city  temperature  windspeed   event\n",
      "8   1/1/2017  paris           45         20   Sunny\n",
      "9   1/2/2017  paris           50         13  Cloudy\n",
      "10  1/3/2017  paris           54          8  Cloudy\n",
      "11  1/4/2017  paris           42         10  Cloudy\n"
     ]
    }
   ],
   "source": [
    "for i,j in x:\n",
    "    print(i)\n",
    "    print(j)"
   ]
  },
  {
   "cell_type": "code",
   "execution_count": 74,
   "metadata": {},
   "outputs": [
    {
     "data": {
      "text/html": [
       "<div>\n",
       "<style scoped>\n",
       "    .dataframe tbody tr th:only-of-type {\n",
       "        vertical-align: middle;\n",
       "    }\n",
       "\n",
       "    .dataframe tbody tr th {\n",
       "        vertical-align: top;\n",
       "    }\n",
       "\n",
       "    .dataframe thead th {\n",
       "        text-align: right;\n",
       "    }\n",
       "</style>\n",
       "<table border=\"1\" class=\"dataframe\">\n",
       "  <thead>\n",
       "    <tr style=\"text-align: right;\">\n",
       "      <th></th>\n",
       "      <th>day</th>\n",
       "      <th>city</th>\n",
       "      <th>temperature</th>\n",
       "      <th>windspeed</th>\n",
       "      <th>event</th>\n",
       "    </tr>\n",
       "  </thead>\n",
       "  <tbody>\n",
       "    <tr>\n",
       "      <th>0</th>\n",
       "      <td>1/1/2017</td>\n",
       "      <td>new york</td>\n",
       "      <td>32</td>\n",
       "      <td>6</td>\n",
       "      <td>Rain</td>\n",
       "    </tr>\n",
       "    <tr>\n",
       "      <th>1</th>\n",
       "      <td>1/2/2017</td>\n",
       "      <td>new york</td>\n",
       "      <td>36</td>\n",
       "      <td>7</td>\n",
       "      <td>Sunny</td>\n",
       "    </tr>\n",
       "    <tr>\n",
       "      <th>2</th>\n",
       "      <td>1/3/2017</td>\n",
       "      <td>new york</td>\n",
       "      <td>28</td>\n",
       "      <td>12</td>\n",
       "      <td>Snow</td>\n",
       "    </tr>\n",
       "    <tr>\n",
       "      <th>3</th>\n",
       "      <td>1/4/2017</td>\n",
       "      <td>new york</td>\n",
       "      <td>33</td>\n",
       "      <td>7</td>\n",
       "      <td>Sunny</td>\n",
       "    </tr>\n",
       "  </tbody>\n",
       "</table>\n",
       "</div>"
      ],
      "text/plain": [
       "        day      city  temperature  windspeed  event\n",
       "0  1/1/2017  new york           32          6   Rain\n",
       "1  1/2/2017  new york           36          7  Sunny\n",
       "2  1/3/2017  new york           28         12   Snow\n",
       "3  1/4/2017  new york           33          7  Sunny"
      ]
     },
     "execution_count": 74,
     "metadata": {},
     "output_type": "execute_result"
    }
   ],
   "source": [
    "#printing specific group\n",
    "x.get_group('new york')"
   ]
  },
  {
   "cell_type": "code",
   "execution_count": 75,
   "metadata": {},
   "outputs": [
    {
     "name": "stdout",
     "output_type": "stream",
     "text": [
      "               day  temperature  windspeed  event\n",
      "city                                             \n",
      "mumbai    1/4/2017           92         15  Sunny\n",
      "new york  1/4/2017           36         12  Sunny\n",
      "paris     1/4/2017           54         20  Sunny\n"
     ]
    }
   ],
   "source": [
    "#printing maximum temperature from all cities\n",
    "print(x.max())"
   ]
  },
  {
   "cell_type": "code",
   "execution_count": 76,
   "metadata": {},
   "outputs": [
    {
     "name": "stdout",
     "output_type": "stream",
     "text": [
      "          temperature  windspeed\n",
      "city                            \n",
      "mumbai          88.50       9.25\n",
      "new york        32.25       8.00\n",
      "paris           47.75      12.75\n"
     ]
    }
   ],
   "source": [
    "#other statistical operations\n",
    "print(x.mean())"
   ]
  },
  {
   "cell_type": "code",
   "execution_count": 77,
   "metadata": {},
   "outputs": [
    {
     "name": "stdout",
     "output_type": "stream",
     "text": [
      "          temperature  windspeed\n",
      "city                            \n",
      "mumbai           88.5        8.5\n",
      "new york         32.5        7.0\n",
      "paris            47.5       11.5\n"
     ]
    }
   ],
   "source": [
    "print(x.median())"
   ]
  },
  {
   "cell_type": "code",
   "execution_count": 79,
   "metadata": {},
   "outputs": [
    {
     "name": "stdout",
     "output_type": "stream",
     "text": [
      "         temperature                                                   \\\n",
      "               count   mean       std   min    25%   50%    75%   max   \n",
      "city                                                                    \n",
      "mumbai           4.0  88.50  3.109126  85.0  86.50  88.5  90.50  92.0   \n",
      "new york         4.0  32.25  3.304038  28.0  31.00  32.5  33.75  36.0   \n",
      "paris            4.0  47.75  5.315073  42.0  44.25  47.5  51.00  54.0   \n",
      "\n",
      "         windspeed                                                 \n",
      "             count   mean       std  min   25%   50%    75%   max  \n",
      "city                                                               \n",
      "mumbai         4.0   9.25  5.057997  5.0  5.00   8.5  12.75  15.0  \n",
      "new york       4.0   8.00  2.708013  6.0  6.75   7.0   8.25  12.0  \n",
      "paris          4.0  12.75  5.251984  8.0  9.50  11.5  14.75  20.0  \n"
     ]
    }
   ],
   "source": [
    "print(x.describe())"
   ]
  },
  {
   "cell_type": "code",
   "execution_count": 83,
   "metadata": {},
   "outputs": [
    {
     "name": "stdout",
     "output_type": "stream",
     "text": [
      "        city  temperature  humidity\n",
      "0     mumbai           32        80\n",
      "1      surat           45        60\n",
      "2  ahmedabad           30        78\n",
      "       city  temperature  humidity\n",
      "0  New york           21        68\n",
      "1   chicago           14        65\n",
      "2   orlando           35        75\n",
      "        city  temperature  humidity\n",
      "0     mumbai           32        80\n",
      "1      surat           45        60\n",
      "2  ahmedabad           30        78\n",
      "0   New york           21        68\n",
      "1    chicago           14        65\n",
      "2    orlando           35        75\n"
     ]
    }
   ],
   "source": [
    "#concatenate of two dataframes\n",
    "\n",
    "dataframe_1 = pd.DataFrame({\n",
    "        'city':['mumbai','surat','ahmedabad'],\n",
    "        'temperature':[32,45,30],\n",
    "        'humidity':[80,60,78]\n",
    "})\n",
    "\n",
    "print(dataframe_1)\n",
    "\n",
    "dataframe_2 = pd.DataFrame({\n",
    "        'city':['New york','chicago','orlando'],\n",
    "        'temperature':[21,14,35],\n",
    "        'humidity':[68,65,75]\n",
    "})\n",
    "\n",
    "print(dataframe_2)\n",
    "\n",
    "dataframe_3 = pd.concat([dataframe_1,dataframe_2])\n",
    "print(dataframe_3)"
   ]
  },
  {
   "cell_type": "code",
   "execution_count": 84,
   "metadata": {},
   "outputs": [
    {
     "name": "stdout",
     "output_type": "stream",
     "text": [
      "        city  temperature  humidity\n",
      "0     mumbai           32        80\n",
      "1      surat           45        60\n",
      "2  ahmedabad           30        78\n",
      "3   New york           21        68\n",
      "4    chicago           14        65\n",
      "5    orlando           35        75\n"
     ]
    }
   ],
   "source": [
    "#if you want continuous index\n",
    "dataframe_4 = pd.concat([dataframe_1, dataframe_2], ignore_index=True)\n",
    "print(dataframe_4)"
   ]
  },
  {
   "cell_type": "code",
   "execution_count": 86,
   "metadata": {},
   "outputs": [
    {
     "name": "stdout",
     "output_type": "stream",
     "text": [
      "        city  temperature  humidity      city  temperature  humidity\n",
      "0     mumbai           32        80  New york           21        68\n",
      "1      surat           45        60   chicago           14        65\n",
      "2  ahmedabad           30        78   orlando           35        75\n"
     ]
    }
   ],
   "source": [
    "#if you want to concat column wise\n",
    "dataframe_5 = pd.concat([dataframe_1,dataframe_2],axis=1)\n",
    "print(dataframe_5)"
   ]
  },
  {
   "cell_type": "code",
   "execution_count": 89,
   "metadata": {},
   "outputs": [
    {
     "name": "stdout",
     "output_type": "stream",
     "text": [
      "        city  temperature\n",
      "0  Ahmedabad           45\n",
      "1      delhi           32\n",
      "2     mumbai           45\n",
      "3        goa           78\n",
      "        city  humidity\n",
      "0  Ahmedabad       115\n",
      "1      delhi       112\n",
      "2     mumbai        78\n",
      "        city  temperature  humidity\n",
      "0  Ahmedabad           45       115\n",
      "1      delhi           32       112\n",
      "2     mumbai           45        78\n"
     ]
    }
   ],
   "source": [
    "#merge dataframes\n",
    "\n",
    "dataframe_1 = pd.DataFrame({\n",
    "        'city':['Ahmedabad','delhi','mumbai','goa'],\n",
    "        'temperature':[45,32,45,78]\n",
    "})\n",
    "\n",
    "print(dataframe_1)\n",
    "\n",
    "dataframe_2 = pd.DataFrame({\n",
    "        'city':['Ahmedabad','delhi','mumbai'],\n",
    "        'humidity':[115,112,78]\n",
    "})\n",
    "\n",
    "print(dataframe_2)\n",
    "\n",
    "dataframe_3 = pd.merge(dataframe_1,dataframe_2,on='city')\n",
    "print(dataframe_3)"
   ]
  },
  {
   "cell_type": "code",
   "execution_count": 90,
   "metadata": {},
   "outputs": [
    {
     "name": "stdout",
     "output_type": "stream",
     "text": [
      "        city  temperature  humidity\n",
      "0  Ahmedabad           45     115.0\n",
      "1      delhi           32     112.0\n",
      "2     mumbai           45      78.0\n",
      "3        goa           78       NaN\n"
     ]
    }
   ],
   "source": [
    "#outer join\n",
    "dataframe_4 = pd.merge(dataframe_1,dataframe_2,on='city',how='outer')\n",
    "print(dataframe_4)"
   ]
  },
  {
   "cell_type": "code",
   "execution_count": 91,
   "metadata": {},
   "outputs": [
    {
     "name": "stdout",
     "output_type": "stream",
     "text": [
      "     0\n",
      "49   1\n",
      "48   2\n",
      "47   3\n",
      "46   4\n",
      "45   5\n",
      "1    6\n",
      "2    7\n",
      "3    8\n",
      "4    9\n",
      "5   19\n"
     ]
    }
   ],
   "source": [
    "#Numerical indexing\n",
    "dataframe = pd.DataFrame([1,2,3,4,5,6,7,8,9,19],index = [49,48,47,46,45,1,2,3,4,5])\n",
    "print(dataframe)"
   ]
  },
  {
   "cell_type": "code",
   "execution_count": 93,
   "metadata": {},
   "outputs": [
    {
     "data": {
      "text/html": [
       "<div>\n",
       "<style scoped>\n",
       "    .dataframe tbody tr th:only-of-type {\n",
       "        vertical-align: middle;\n",
       "    }\n",
       "\n",
       "    .dataframe tbody tr th {\n",
       "        vertical-align: top;\n",
       "    }\n",
       "\n",
       "    .dataframe thead th {\n",
       "        text-align: right;\n",
       "    }\n",
       "</style>\n",
       "<table border=\"1\" class=\"dataframe\">\n",
       "  <thead>\n",
       "    <tr style=\"text-align: right;\">\n",
       "      <th></th>\n",
       "      <th>0</th>\n",
       "    </tr>\n",
       "  </thead>\n",
       "  <tbody>\n",
       "    <tr>\n",
       "      <th>49</th>\n",
       "      <td>1</td>\n",
       "    </tr>\n",
       "    <tr>\n",
       "      <th>48</th>\n",
       "      <td>2</td>\n",
       "    </tr>\n",
       "    <tr>\n",
       "      <th>47</th>\n",
       "      <td>3</td>\n",
       "    </tr>\n",
       "    <tr>\n",
       "      <th>46</th>\n",
       "      <td>4</td>\n",
       "    </tr>\n",
       "    <tr>\n",
       "      <th>45</th>\n",
       "      <td>5</td>\n",
       "    </tr>\n",
       "    <tr>\n",
       "      <th>1</th>\n",
       "      <td>6</td>\n",
       "    </tr>\n",
       "    <tr>\n",
       "      <th>2</th>\n",
       "      <td>7</td>\n",
       "    </tr>\n",
       "  </tbody>\n",
       "</table>\n",
       "</div>"
      ],
      "text/plain": [
       "    0\n",
       "49  1\n",
       "48  2\n",
       "47  3\n",
       "46  4\n",
       "45  5\n",
       "1   6\n",
       "2   7"
      ]
     },
     "execution_count": 93,
     "metadata": {},
     "output_type": "execute_result"
    }
   ],
   "source": [
    "#till index 2\n",
    "dataframe.loc[:2]"
   ]
  },
  {
   "cell_type": "code",
   "execution_count": 94,
   "metadata": {},
   "outputs": [
    {
     "data": {
      "text/html": [
       "<div>\n",
       "<style scoped>\n",
       "    .dataframe tbody tr th:only-of-type {\n",
       "        vertical-align: middle;\n",
       "    }\n",
       "\n",
       "    .dataframe tbody tr th {\n",
       "        vertical-align: top;\n",
       "    }\n",
       "\n",
       "    .dataframe thead th {\n",
       "        text-align: right;\n",
       "    }\n",
       "</style>\n",
       "<table border=\"1\" class=\"dataframe\">\n",
       "  <thead>\n",
       "    <tr style=\"text-align: right;\">\n",
       "      <th></th>\n",
       "      <th>0</th>\n",
       "    </tr>\n",
       "  </thead>\n",
       "  <tbody>\n",
       "    <tr>\n",
       "      <th>49</th>\n",
       "      <td>1</td>\n",
       "    </tr>\n",
       "    <tr>\n",
       "      <th>48</th>\n",
       "      <td>2</td>\n",
       "    </tr>\n",
       "  </tbody>\n",
       "</table>\n",
       "</div>"
      ],
      "text/plain": [
       "    0\n",
       "49  1\n",
       "48  2"
      ]
     },
     "execution_count": 94,
     "metadata": {},
     "output_type": "execute_result"
    }
   ],
   "source": [
    "#till position 2\n",
    "dataframe.iloc[:2]"
   ]
  }
 ],
 "metadata": {
  "kernelspec": {
   "display_name": "Python 3",
   "language": "python",
   "name": "python3"
  },
  "language_info": {
   "codemirror_mode": {
    "name": "ipython",
    "version": 3
   },
   "file_extension": ".py",
   "mimetype": "text/x-python",
   "name": "python",
   "nbconvert_exporter": "python",
   "pygments_lexer": "ipython3",
   "version": "3.6.7"
  }
 },
 "nbformat": 4,
 "nbformat_minor": 2
}
